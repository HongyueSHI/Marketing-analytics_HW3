{
 "cells": [
  {
   "cell_type": "code",
   "execution_count": 1,
   "metadata": {},
   "outputs": [],
   "source": [
    "import pandas as pd \n",
    "import numpy as np"
   ]
  },
  {
   "cell_type": "code",
   "execution_count": 70,
   "metadata": {},
   "outputs": [],
   "source": [
    "df=pd.read_csv('attribution_allocation_student_data.csv')\n",
    "cost = pd.read_csv('channel_spend_student_data.csv',index_col=0)"
   ]
  },
  {
   "cell_type": "code",
   "execution_count": 3,
   "metadata": {},
   "outputs": [
    {
     "data": {
      "text/html": [
       "<div>\n",
       "<style scoped>\n",
       "    .dataframe tbody tr th:only-of-type {\n",
       "        vertical-align: middle;\n",
       "    }\n",
       "\n",
       "    .dataframe tbody tr th {\n",
       "        vertical-align: top;\n",
       "    }\n",
       "\n",
       "    .dataframe thead th {\n",
       "        text-align: right;\n",
       "    }\n",
       "</style>\n",
       "<table border=\"1\" class=\"dataframe\">\n",
       "  <thead>\n",
       "    <tr style=\"text-align: right;\">\n",
       "      <th></th>\n",
       "      <th>convert_TF</th>\n",
       "      <th>touch1</th>\n",
       "      <th>touch2</th>\n",
       "      <th>touch3</th>\n",
       "      <th>touch4</th>\n",
       "      <th>touch5</th>\n",
       "      <th>tier</th>\n",
       "    </tr>\n",
       "  </thead>\n",
       "  <tbody>\n",
       "    <tr>\n",
       "      <th>0</th>\n",
       "      <td>True</td>\n",
       "      <td>email</td>\n",
       "      <td>referral</td>\n",
       "      <td>referral</td>\n",
       "      <td>NaN</td>\n",
       "      <td>NaN</td>\n",
       "      <td>1</td>\n",
       "    </tr>\n",
       "    <tr>\n",
       "      <th>1</th>\n",
       "      <td>True</td>\n",
       "      <td>referral</td>\n",
       "      <td>referral</td>\n",
       "      <td>email</td>\n",
       "      <td>NaN</td>\n",
       "      <td>NaN</td>\n",
       "      <td>1</td>\n",
       "    </tr>\n",
       "    <tr>\n",
       "      <th>2</th>\n",
       "      <td>True</td>\n",
       "      <td>referral</td>\n",
       "      <td>NaN</td>\n",
       "      <td>NaN</td>\n",
       "      <td>NaN</td>\n",
       "      <td>NaN</td>\n",
       "      <td>1</td>\n",
       "    </tr>\n",
       "    <tr>\n",
       "      <th>3</th>\n",
       "      <td>True</td>\n",
       "      <td>email</td>\n",
       "      <td>NaN</td>\n",
       "      <td>NaN</td>\n",
       "      <td>NaN</td>\n",
       "      <td>NaN</td>\n",
       "      <td>1</td>\n",
       "    </tr>\n",
       "    <tr>\n",
       "      <th>4</th>\n",
       "      <td>True</td>\n",
       "      <td>referral</td>\n",
       "      <td>referral</td>\n",
       "      <td>social</td>\n",
       "      <td>referral</td>\n",
       "      <td>NaN</td>\n",
       "      <td>1</td>\n",
       "    </tr>\n",
       "    <tr>\n",
       "      <th>...</th>\n",
       "      <td>...</td>\n",
       "      <td>...</td>\n",
       "      <td>...</td>\n",
       "      <td>...</td>\n",
       "      <td>...</td>\n",
       "      <td>...</td>\n",
       "      <td>...</td>\n",
       "    </tr>\n",
       "    <tr>\n",
       "      <th>68119</th>\n",
       "      <td>False</td>\n",
       "      <td>direct</td>\n",
       "      <td>NaN</td>\n",
       "      <td>NaN</td>\n",
       "      <td>NaN</td>\n",
       "      <td>NaN</td>\n",
       "      <td>3</td>\n",
       "    </tr>\n",
       "    <tr>\n",
       "      <th>68120</th>\n",
       "      <td>False</td>\n",
       "      <td>direct</td>\n",
       "      <td>email</td>\n",
       "      <td>referral</td>\n",
       "      <td>NaN</td>\n",
       "      <td>NaN</td>\n",
       "      <td>3</td>\n",
       "    </tr>\n",
       "    <tr>\n",
       "      <th>68121</th>\n",
       "      <td>False</td>\n",
       "      <td>direct</td>\n",
       "      <td>referral</td>\n",
       "      <td>NaN</td>\n",
       "      <td>NaN</td>\n",
       "      <td>NaN</td>\n",
       "      <td>3</td>\n",
       "    </tr>\n",
       "    <tr>\n",
       "      <th>68122</th>\n",
       "      <td>False</td>\n",
       "      <td>email</td>\n",
       "      <td>direct</td>\n",
       "      <td>NaN</td>\n",
       "      <td>NaN</td>\n",
       "      <td>NaN</td>\n",
       "      <td>3</td>\n",
       "    </tr>\n",
       "    <tr>\n",
       "      <th>68123</th>\n",
       "      <td>False</td>\n",
       "      <td>direct</td>\n",
       "      <td>referral</td>\n",
       "      <td>social</td>\n",
       "      <td>NaN</td>\n",
       "      <td>NaN</td>\n",
       "      <td>3</td>\n",
       "    </tr>\n",
       "  </tbody>\n",
       "</table>\n",
       "<p>68124 rows × 7 columns</p>\n",
       "</div>"
      ],
      "text/plain": [
       "       convert_TF    touch1    touch2    touch3    touch4 touch5  tier\n",
       "0            True     email  referral  referral       NaN    NaN     1\n",
       "1            True  referral  referral     email       NaN    NaN     1\n",
       "2            True  referral       NaN       NaN       NaN    NaN     1\n",
       "3            True     email       NaN       NaN       NaN    NaN     1\n",
       "4            True  referral  referral    social  referral    NaN     1\n",
       "...           ...       ...       ...       ...       ...    ...   ...\n",
       "68119       False    direct       NaN       NaN       NaN    NaN     3\n",
       "68120       False    direct     email  referral       NaN    NaN     3\n",
       "68121       False    direct  referral       NaN       NaN    NaN     3\n",
       "68122       False     email    direct       NaN       NaN    NaN     3\n",
       "68123       False    direct  referral    social       NaN    NaN     3\n",
       "\n",
       "[68124 rows x 7 columns]"
      ]
     },
     "execution_count": 3,
     "metadata": {},
     "output_type": "execute_result"
    }
   ],
   "source": [
    "df"
   ]
  },
  {
   "cell_type": "code",
   "execution_count": 4,
   "metadata": {},
   "outputs": [],
   "source": [
    "df=df[df['convert_TF']==True]"
   ]
  },
  {
   "cell_type": "code",
   "execution_count": 5,
   "metadata": {},
   "outputs": [],
   "source": [
    "df=df.fillna('')"
   ]
  },
  {
   "cell_type": "code",
   "execution_count": 6,
   "metadata": {},
   "outputs": [],
   "source": [
    "df_1=df[df['tier']==1]"
   ]
  },
  {
   "cell_type": "code",
   "execution_count": 7,
   "metadata": {},
   "outputs": [],
   "source": [
    "df1=df_1[['touch1','touch2','touch3','touch4','touch5']]"
   ]
  },
  {
   "cell_type": "code",
   "execution_count": 8,
   "metadata": {},
   "outputs": [],
   "source": [
    "df_2=df[df['tier']==2]\n",
    "df2=df_2[['touch1','touch2','touch3','touch4','touch5']]\n",
    "\n",
    "df_3=df[df['tier']==3]\n",
    "df3=df_3[['touch1','touch2','touch3','touch4','touch5']]"
   ]
  },
  {
   "cell_type": "code",
   "execution_count": 9,
   "metadata": {},
   "outputs": [],
   "source": [
    "#df_new=df1.fillna('')"
   ]
  },
  {
   "cell_type": "code",
   "execution_count": 10,
   "metadata": {},
   "outputs": [],
   "source": [
    "df_list1=df1.values.tolist()\n",
    "df_list2=df2.values.tolist()\n",
    "df_list3=df3.values.tolist()"
   ]
  },
  {
   "cell_type": "code",
   "execution_count": 13,
   "metadata": {},
   "outputs": [
    {
     "data": {
      "text/plain": [
       "[['email', 'referral', 'referral', '', ''],\n",
       " ['referral', 'referral', 'email', '', ''],\n",
       " ['referral', '', '', '', ''],\n",
       " ['email', '', '', '', ''],\n",
       " ['referral', 'referral', 'social', 'referral', '']]"
      ]
     },
     "execution_count": 13,
     "metadata": {},
     "output_type": "execute_result"
    }
   ],
   "source": [
    "df_list1[:5]"
   ]
  },
  {
   "cell_type": "code",
   "execution_count": 14,
   "metadata": {},
   "outputs": [
    {
     "data": {
      "text/plain": [
       "[['email', 'referral', 'referral'],\n",
       " ['referral', 'referral', 'email'],\n",
       " ['referral'],\n",
       " ['email'],\n",
       " ['referral', 'referral', 'social', 'referral']]"
      ]
     },
     "execution_count": 14,
     "metadata": {},
     "output_type": "execute_result"
    }
   ],
   "source": [
    "new_list1=[]\n",
    "for i in df_list1:\n",
    "    new=list(filter(None,i))\n",
    "    new_list1.append(new)\n",
    "new_list1[:5]"
   ]
  },
  {
   "cell_type": "code",
   "execution_count": 15,
   "metadata": {},
   "outputs": [
    {
     "data": {
      "text/plain": [
       "[['referral', 'referral', 'email'],\n",
       " ['email', 'referral', 'referral', 'referral', 'display'],\n",
       " ['referral', 'email'],\n",
       " ['referral', 'referral', 'referral', 'email'],\n",
       " ['social', 'referral', 'email']]"
      ]
     },
     "execution_count": 15,
     "metadata": {},
     "output_type": "execute_result"
    }
   ],
   "source": [
    "new_list2=[]\n",
    "for i in df_list2:\n",
    "    new=list(filter(None,i ))\n",
    "    new_list2.append(new)\n",
    "\n",
    "new_list2[:5]"
   ]
  },
  {
   "cell_type": "code",
   "execution_count": 16,
   "metadata": {},
   "outputs": [
    {
     "data": {
      "text/plain": [
       "[['referral', 'email'],\n",
       " ['referral', 'referral', 'email'],\n",
       " ['display', 'referral', 'paid_search'],\n",
       " ['referral', 'email'],\n",
       " ['referral', 'referral', 'referral', 'email']]"
      ]
     },
     "execution_count": 16,
     "metadata": {},
     "output_type": "execute_result"
    }
   ],
   "source": [
    "new_list3=[]\n",
    "for i in df_list3:\n",
    "    new=list(filter(None,i ))\n",
    "    new_list3.append(new)\n",
    "\n",
    "new_list3[:5]"
   ]
  },
  {
   "cell_type": "code",
   "execution_count": 17,
   "metadata": {},
   "outputs": [
    {
     "data": {
      "text/plain": [
       "['referral', 'email', 'referral', 'email', 'referral']"
      ]
     },
     "execution_count": 17,
     "metadata": {},
     "output_type": "execute_result"
    }
   ],
   "source": [
    "general1=[]\n",
    "for i in new_list1:\n",
    "    if len(i)==1:\n",
    "        if i[0] !='direct':\n",
    "            general1.append(i[0])\n",
    "    else:\n",
    "        if i[-1] !='direct':\n",
    "            general1.append(i[-1])\n",
    "        else:\n",
    "            general1.append(i[-2])\n",
    "general1[:5]     "
   ]
  },
  {
   "cell_type": "code",
   "execution_count": 18,
   "metadata": {},
   "outputs": [
    {
     "data": {
      "text/plain": [
       "['email', 'display', 'email', 'email', 'email']"
      ]
     },
     "execution_count": 18,
     "metadata": {},
     "output_type": "execute_result"
    }
   ],
   "source": [
    "general2=[]\n",
    "for i in new_list2:\n",
    "    if len(i)==1:\n",
    "        if i[0] !='direct':\n",
    "            general2.append(i[0])\n",
    "    else:\n",
    "        if i[-1] !='direct':\n",
    "            general2.append(i[-1])\n",
    "        else:\n",
    "            general2.append(i[-2])\n",
    "general2[:5]       "
   ]
  },
  {
   "cell_type": "code",
   "execution_count": 19,
   "metadata": {},
   "outputs": [
    {
     "data": {
      "text/plain": [
       "['email', 'email', 'paid_search', 'email', 'email']"
      ]
     },
     "execution_count": 19,
     "metadata": {},
     "output_type": "execute_result"
    }
   ],
   "source": [
    "general3=[]\n",
    "for i in new_list3:\n",
    "    if len(i)==1:\n",
    "        if i[0] !='direct':\n",
    "            general3.append(i[0])\n",
    "    else:\n",
    "        if i[-1] !='direct':\n",
    "            general3.append(i[-1])\n",
    "        else:\n",
    "            general3.append(i[-2])\n",
    "general3[:5]   "
   ]
  },
  {
   "cell_type": "code",
   "execution_count": 75,
   "metadata": {},
   "outputs": [],
   "source": [
    "dict1= {}\n",
    "for key in general1:\n",
    "    dict1[key] = dict1.get(key, 0) + 1\n",
    "\n"
   ]
  },
  {
   "cell_type": "code",
   "execution_count": 76,
   "metadata": {},
   "outputs": [],
   "source": [
    "dict2= {}\n",
    "for key in general2:\n",
    "    dict2[key] = dict2.get(key, 0) + 1\n",
    "\n"
   ]
  },
  {
   "cell_type": "code",
   "execution_count": 77,
   "metadata": {},
   "outputs": [],
   "source": [
    "dict3= {}\n",
    "for key in general3:\n",
    "    dict3[key] = dict3.get(key, 0) + 1\n",
    "\n"
   ]
  },
  {
   "cell_type": "code",
   "execution_count": 78,
   "metadata": {},
   "outputs": [
    {
     "name": "stdout",
     "output_type": "stream",
     "text": [
      "{'referral': 1189, 'email': 299, 'social': 622, 'display': 531, 'paid_search': 180, 'organic_search': 2}\n",
      "{'email': 532, 'display': 824, 'referral': 2124, 'social': 1069, 'paid_search': 340, 'organic_search': 3}\n",
      "{'email': 686, 'paid_search': 484, 'referral': 2671, 'social': 1257, 'display': 959, 'organic_search': 5}\n"
     ]
    }
   ],
   "source": [
    "print(dict1)\n",
    "print(dict2)\n",
    "print(dict3)"
   ]
  },
  {
   "cell_type": "code",
   "execution_count": 79,
   "metadata": {},
   "outputs": [
    {
     "data": {
      "text/html": [
       "<div>\n",
       "<style scoped>\n",
       "    .dataframe tbody tr th:only-of-type {\n",
       "        vertical-align: middle;\n",
       "    }\n",
       "\n",
       "    .dataframe tbody tr th {\n",
       "        vertical-align: top;\n",
       "    }\n",
       "\n",
       "    .dataframe thead th {\n",
       "        text-align: right;\n",
       "    }\n",
       "</style>\n",
       "<table border=\"1\" class=\"dataframe\">\n",
       "  <thead>\n",
       "    <tr style=\"text-align: right;\">\n",
       "      <th></th>\n",
       "      <th>0</th>\n",
       "    </tr>\n",
       "  </thead>\n",
       "  <tbody>\n",
       "    <tr>\n",
       "      <th>tier1</th>\n",
       "      <td>{'email': 1000.0, 'social': 1000.0000000000001...</td>\n",
       "    </tr>\n",
       "    <tr>\n",
       "      <th>tier2</th>\n",
       "      <td>{'email': 2000.0, 'social': 2000.0, 'display':...</td>\n",
       "    </tr>\n",
       "    <tr>\n",
       "      <th>tier3</th>\n",
       "      <td>{'email': 3000.0, 'social': 3000.0, 'display':...</td>\n",
       "    </tr>\n",
       "  </tbody>\n",
       "</table>\n",
       "</div>"
      ],
      "text/plain": [
       "                                                       0\n",
       "tier1  {'email': 1000.0, 'social': 1000.0000000000001...\n",
       "tier2  {'email': 2000.0, 'social': 2000.0, 'display':...\n",
       "tier3  {'email': 3000.0, 'social': 3000.0, 'display':..."
      ]
     },
     "execution_count": 79,
     "metadata": {},
     "output_type": "execute_result"
    }
   ],
   "source": [
    "cost"
   ]
  },
  {
   "cell_type": "code",
   "execution_count": 80,
   "metadata": {},
   "outputs": [],
   "source": [
    "tier1 = eval(cost.loc['tier1','0'])\n",
    "tier2 = eval(cost.loc['tier2','0'])\n",
    "tier3 = eval(cost.loc['tier3','0'])"
   ]
  },
  {
   "cell_type": "code",
   "execution_count": 81,
   "metadata": {},
   "outputs": [
    {
     "data": {
      "text/plain": [
       "{'email': 1000.0,\n",
       " 'social': 1000.0000000000001,\n",
       " 'display': 1000.0,\n",
       " 'paid_search': 999.9999999999999,\n",
       " 'referral': 1000.0,\n",
       " 'organic_search': 0.0,\n",
       " 'direct': 0.0}"
      ]
     },
     "execution_count": 81,
     "metadata": {},
     "output_type": "execute_result"
    }
   ],
   "source": [
    "tier1"
   ]
  },
  {
   "cell_type": "code",
   "execution_count": 93,
   "metadata": {},
   "outputs": [
    {
     "data": {
      "text/plain": [
       "{'email': 2000.0,\n",
       " 'social': 2000.0,\n",
       " 'display': 2000.0,\n",
       " 'paid_search': 2000.0,\n",
       " 'referral': 2000.0,\n",
       " 'organic_search': 0.0,\n",
       " 'direct': 0.0}"
      ]
     },
     "execution_count": 93,
     "metadata": {},
     "output_type": "execute_result"
    }
   ],
   "source": [
    "tier2"
   ]
  },
  {
   "cell_type": "code",
   "execution_count": 94,
   "metadata": {},
   "outputs": [
    {
     "data": {
      "text/plain": [
       "{'email': 3000.0,\n",
       " 'social': 3000.0,\n",
       " 'display': 3000.0,\n",
       " 'paid_search': 3000.0,\n",
       " 'referral': 3000.0,\n",
       " 'organic_search': 0.0,\n",
       " 'direct': 0.0}"
      ]
     },
     "execution_count": 94,
     "metadata": {},
     "output_type": "execute_result"
    }
   ],
   "source": [
    "tier3"
   ]
  },
  {
   "cell_type": "code",
   "execution_count": 90,
   "metadata": {},
   "outputs": [
    {
     "name": "stdout",
     "output_type": "stream",
     "text": [
      "{'referral': 0.841, 'email': 3.344, 'social': 1.608, 'display': 1.883, 'paid_search': 5.556}\n"
     ]
    }
   ],
   "source": [
    "aver1={}\n",
    "for k,v in dict1.items():\n",
    "    if tier1.get(k):\n",
    "        aver1[k]=round(float(tier1[k]/dict1[k]),3)\n",
    "print(aver1)"
   ]
  },
  {
   "cell_type": "code",
   "execution_count": 91,
   "metadata": {},
   "outputs": [
    {
     "name": "stdout",
     "output_type": "stream",
     "text": [
      "{'email': 3.759, 'display': 2.427, 'referral': 0.942, 'social': 1.871, 'paid_search': 5.882}\n"
     ]
    }
   ],
   "source": [
    "aver2={}\n",
    "for k,v in dict2.items():\n",
    "    if tier2.get(k):\n",
    "        aver2[k]=round(float(tier2[k]/dict2[k]),3)\n",
    "print(aver2)"
   ]
  },
  {
   "cell_type": "code",
   "execution_count": 92,
   "metadata": {},
   "outputs": [
    {
     "name": "stdout",
     "output_type": "stream",
     "text": [
      "{'email': 4.373, 'paid_search': 6.198, 'referral': 1.123, 'social': 2.387, 'display': 3.128}\n"
     ]
    }
   ],
   "source": [
    "aver3={}\n",
    "for k,v in dict3.items():\n",
    "    if tier3.get(k):\n",
    "        aver3[k]=round(float(tier3[k]/dict3[k]),3)\n",
    "print(aver3)"
   ]
  },
  {
   "cell_type": "code",
   "execution_count": null,
   "metadata": {},
   "outputs": [],
   "source": []
  }
 ],
 "metadata": {
  "kernelspec": {
   "display_name": "Python 3",
   "language": "python",
   "name": "python3"
  },
  "language_info": {
   "codemirror_mode": {
    "name": "ipython",
    "version": 3
   },
   "file_extension": ".py",
   "mimetype": "text/x-python",
   "name": "python",
   "nbconvert_exporter": "python",
   "pygments_lexer": "ipython3",
   "version": "3.8.3"
  }
 },
 "nbformat": 4,
 "nbformat_minor": 4
}
